{
  "cells": [
    {
      "cell_type": "code",
      "execution_count": null,
      "metadata": {
        "id": "3-_YYRQcNW5f"
      },
      "outputs": [],
      "source": [
        "import pandas as pd\n",
        "def wrangle(path):\n",
        "  df=pd.read_csv(path)\n",
        "  df[[\"text\",\"sentiment\",\"source\",\"date_time\",\"userid\",\"location\",\"confidence_score\"]]=(df[\"Text, Sentiment, Source, Date/Time, User ID, Location, Confidence Score\"].str.split(\",\",expand=True))\n",
        "  #columns\n",
        "  df.drop(columns=[\"Text, Sentiment, Source, Date/Time, User ID, Location, Confidence Score\"],inplace=True)\n",
        "  #df[\"text\"]=df[\"text\"].str.replace('\"\"','',regex=True)\n",
        "  #df[[\"date\",\"time\"]]=df[\"date_time\"].str.split(\" \",expand=True)\n",
        "  return df"
      ]
    },
    {
      "cell_type": "code",
      "execution_count": null,
      "metadata": {
        "id": "MqEgPA1GSHb8"
      },
      "outputs": [],
      "source": [
        "ds=wrangle(r\"/content/sentiment-analysis.csv\")"
      ]
    },
    {
      "cell_type": "code",
      "execution_count": null,
      "metadata": {
        "id": "qWAkAcQOUKU_",
        "colab": {
          "base_uri": "https://localhost:8080/"
        },
        "outputId": "8ee3b64c-54a5-4adc-9e47-1aeeeca9fde9"
      },
      "outputs": [
        {
          "output_type": "stream",
          "name": "stdout",
          "text": [
            "<class 'pandas.core.frame.DataFrame'>\n",
            "RangeIndex: 98 entries, 0 to 97\n",
            "Data columns (total 7 columns):\n",
            " #   Column            Non-Null Count  Dtype \n",
            "---  ------            --------------  ----- \n",
            " 0   text              96 non-null     object\n",
            " 1   sentiment         96 non-null     object\n",
            " 2   source            96 non-null     object\n",
            " 3   date_time         96 non-null     object\n",
            " 4   userid            96 non-null     object\n",
            " 5   location          96 non-null     object\n",
            " 6   confidence_score  96 non-null     object\n",
            "dtypes: object(7)\n",
            "memory usage: 5.5+ KB\n"
          ]
        }
      ],
      "source": [
        "ds.info()"
      ]
    },
    {
      "cell_type": "code",
      "execution_count": null,
      "metadata": {
        "id": "08wC38HYUrCH",
        "colab": {
          "base_uri": "https://localhost:8080/",
          "height": 206
        },
        "outputId": "253008db-125c-4a4f-e284-a3def4ce76e6"
      },
      "outputs": [
        {
          "output_type": "execute_result",
          "data": {
            "text/plain": [
              "                                                text  sentiment  \\\n",
              "0                             \"I love this product!\"   Positive   \n",
              "1                        \"The service was terrible.\"   Negative   \n",
              "2                           \"This movie is amazing!\"   Positive   \n",
              "3  \"I'm so disappointed with their customer suppo...   Negative   \n",
              "4               \"Just had the best meal of my life!\"   Positive   \n",
              "\n",
              "          source             date_time        userid      location  \\\n",
              "0        Twitter   2023-06-15 09:23:14      @user123      New York   \n",
              "1   Yelp Reviews   2023-06-15 11:45:32       user456   Los Angeles   \n",
              "2           IMDb   2023-06-15 14:10:22   moviefan789        London   \n",
              "3   Online Forum   2023-06-15 17:35:11    forumuser1       Toronto   \n",
              "4    TripAdvisor   2023-06-16 08:50:59      foodie22         Paris   \n",
              "\n",
              "  confidence_score  \n",
              "0             0.85  \n",
              "1             0.65  \n",
              "2             0.92  \n",
              "3             0.78  \n",
              "4             0.88  "
            ],
            "text/html": [
              "\n",
              "  <div id=\"df-9e0cdeae-4fc1-43c3-8854-a063f4be5fe9\" class=\"colab-df-container\">\n",
              "    <div>\n",
              "<style scoped>\n",
              "    .dataframe tbody tr th:only-of-type {\n",
              "        vertical-align: middle;\n",
              "    }\n",
              "\n",
              "    .dataframe tbody tr th {\n",
              "        vertical-align: top;\n",
              "    }\n",
              "\n",
              "    .dataframe thead th {\n",
              "        text-align: right;\n",
              "    }\n",
              "</style>\n",
              "<table border=\"1\" class=\"dataframe\">\n",
              "  <thead>\n",
              "    <tr style=\"text-align: right;\">\n",
              "      <th></th>\n",
              "      <th>text</th>\n",
              "      <th>sentiment</th>\n",
              "      <th>source</th>\n",
              "      <th>date_time</th>\n",
              "      <th>userid</th>\n",
              "      <th>location</th>\n",
              "      <th>confidence_score</th>\n",
              "    </tr>\n",
              "  </thead>\n",
              "  <tbody>\n",
              "    <tr>\n",
              "      <th>0</th>\n",
              "      <td>\"I love this product!\"</td>\n",
              "      <td>Positive</td>\n",
              "      <td>Twitter</td>\n",
              "      <td>2023-06-15 09:23:14</td>\n",
              "      <td>@user123</td>\n",
              "      <td>New York</td>\n",
              "      <td>0.85</td>\n",
              "    </tr>\n",
              "    <tr>\n",
              "      <th>1</th>\n",
              "      <td>\"The service was terrible.\"</td>\n",
              "      <td>Negative</td>\n",
              "      <td>Yelp Reviews</td>\n",
              "      <td>2023-06-15 11:45:32</td>\n",
              "      <td>user456</td>\n",
              "      <td>Los Angeles</td>\n",
              "      <td>0.65</td>\n",
              "    </tr>\n",
              "    <tr>\n",
              "      <th>2</th>\n",
              "      <td>\"This movie is amazing!\"</td>\n",
              "      <td>Positive</td>\n",
              "      <td>IMDb</td>\n",
              "      <td>2023-06-15 14:10:22</td>\n",
              "      <td>moviefan789</td>\n",
              "      <td>London</td>\n",
              "      <td>0.92</td>\n",
              "    </tr>\n",
              "    <tr>\n",
              "      <th>3</th>\n",
              "      <td>\"I'm so disappointed with their customer suppo...</td>\n",
              "      <td>Negative</td>\n",
              "      <td>Online Forum</td>\n",
              "      <td>2023-06-15 17:35:11</td>\n",
              "      <td>forumuser1</td>\n",
              "      <td>Toronto</td>\n",
              "      <td>0.78</td>\n",
              "    </tr>\n",
              "    <tr>\n",
              "      <th>4</th>\n",
              "      <td>\"Just had the best meal of my life!\"</td>\n",
              "      <td>Positive</td>\n",
              "      <td>TripAdvisor</td>\n",
              "      <td>2023-06-16 08:50:59</td>\n",
              "      <td>foodie22</td>\n",
              "      <td>Paris</td>\n",
              "      <td>0.88</td>\n",
              "    </tr>\n",
              "  </tbody>\n",
              "</table>\n",
              "</div>\n",
              "    <div class=\"colab-df-buttons\">\n",
              "\n",
              "  <div class=\"colab-df-container\">\n",
              "    <button class=\"colab-df-convert\" onclick=\"convertToInteractive('df-9e0cdeae-4fc1-43c3-8854-a063f4be5fe9')\"\n",
              "            title=\"Convert this dataframe to an interactive table.\"\n",
              "            style=\"display:none;\">\n",
              "\n",
              "  <svg xmlns=\"http://www.w3.org/2000/svg\" height=\"24px\" viewBox=\"0 -960 960 960\">\n",
              "    <path d=\"M120-120v-720h720v720H120Zm60-500h600v-160H180v160Zm220 220h160v-160H400v160Zm0 220h160v-160H400v160ZM180-400h160v-160H180v160Zm440 0h160v-160H620v160ZM180-180h160v-160H180v160Zm440 0h160v-160H620v160Z\"/>\n",
              "  </svg>\n",
              "    </button>\n",
              "\n",
              "  <style>\n",
              "    .colab-df-container {\n",
              "      display:flex;\n",
              "      gap: 12px;\n",
              "    }\n",
              "\n",
              "    .colab-df-convert {\n",
              "      background-color: #E8F0FE;\n",
              "      border: none;\n",
              "      border-radius: 50%;\n",
              "      cursor: pointer;\n",
              "      display: none;\n",
              "      fill: #1967D2;\n",
              "      height: 32px;\n",
              "      padding: 0 0 0 0;\n",
              "      width: 32px;\n",
              "    }\n",
              "\n",
              "    .colab-df-convert:hover {\n",
              "      background-color: #E2EBFA;\n",
              "      box-shadow: 0px 1px 2px rgba(60, 64, 67, 0.3), 0px 1px 3px 1px rgba(60, 64, 67, 0.15);\n",
              "      fill: #174EA6;\n",
              "    }\n",
              "\n",
              "    .colab-df-buttons div {\n",
              "      margin-bottom: 4px;\n",
              "    }\n",
              "\n",
              "    [theme=dark] .colab-df-convert {\n",
              "      background-color: #3B4455;\n",
              "      fill: #D2E3FC;\n",
              "    }\n",
              "\n",
              "    [theme=dark] .colab-df-convert:hover {\n",
              "      background-color: #434B5C;\n",
              "      box-shadow: 0px 1px 3px 1px rgba(0, 0, 0, 0.15);\n",
              "      filter: drop-shadow(0px 1px 2px rgba(0, 0, 0, 0.3));\n",
              "      fill: #FFFFFF;\n",
              "    }\n",
              "  </style>\n",
              "\n",
              "    <script>\n",
              "      const buttonEl =\n",
              "        document.querySelector('#df-9e0cdeae-4fc1-43c3-8854-a063f4be5fe9 button.colab-df-convert');\n",
              "      buttonEl.style.display =\n",
              "        google.colab.kernel.accessAllowed ? 'block' : 'none';\n",
              "\n",
              "      async function convertToInteractive(key) {\n",
              "        const element = document.querySelector('#df-9e0cdeae-4fc1-43c3-8854-a063f4be5fe9');\n",
              "        const dataTable =\n",
              "          await google.colab.kernel.invokeFunction('convertToInteractive',\n",
              "                                                    [key], {});\n",
              "        if (!dataTable) return;\n",
              "\n",
              "        const docLinkHtml = 'Like what you see? Visit the ' +\n",
              "          '<a target=\"_blank\" href=https://colab.research.google.com/notebooks/data_table.ipynb>data table notebook</a>'\n",
              "          + ' to learn more about interactive tables.';\n",
              "        element.innerHTML = '';\n",
              "        dataTable['output_type'] = 'display_data';\n",
              "        await google.colab.output.renderOutput(dataTable, element);\n",
              "        const docLink = document.createElement('div');\n",
              "        docLink.innerHTML = docLinkHtml;\n",
              "        element.appendChild(docLink);\n",
              "      }\n",
              "    </script>\n",
              "  </div>\n",
              "\n",
              "\n",
              "<div id=\"df-dc8e2c82-d010-4f35-bb92-f85d1cedea6d\">\n",
              "  <button class=\"colab-df-quickchart\" onclick=\"quickchart('df-dc8e2c82-d010-4f35-bb92-f85d1cedea6d')\"\n",
              "            title=\"Suggest charts\"\n",
              "            style=\"display:none;\">\n",
              "\n",
              "<svg xmlns=\"http://www.w3.org/2000/svg\" height=\"24px\"viewBox=\"0 0 24 24\"\n",
              "     width=\"24px\">\n",
              "    <g>\n",
              "        <path d=\"M19 3H5c-1.1 0-2 .9-2 2v14c0 1.1.9 2 2 2h14c1.1 0 2-.9 2-2V5c0-1.1-.9-2-2-2zM9 17H7v-7h2v7zm4 0h-2V7h2v10zm4 0h-2v-4h2v4z\"/>\n",
              "    </g>\n",
              "</svg>\n",
              "  </button>\n",
              "\n",
              "<style>\n",
              "  .colab-df-quickchart {\n",
              "      --bg-color: #E8F0FE;\n",
              "      --fill-color: #1967D2;\n",
              "      --hover-bg-color: #E2EBFA;\n",
              "      --hover-fill-color: #174EA6;\n",
              "      --disabled-fill-color: #AAA;\n",
              "      --disabled-bg-color: #DDD;\n",
              "  }\n",
              "\n",
              "  [theme=dark] .colab-df-quickchart {\n",
              "      --bg-color: #3B4455;\n",
              "      --fill-color: #D2E3FC;\n",
              "      --hover-bg-color: #434B5C;\n",
              "      --hover-fill-color: #FFFFFF;\n",
              "      --disabled-bg-color: #3B4455;\n",
              "      --disabled-fill-color: #666;\n",
              "  }\n",
              "\n",
              "  .colab-df-quickchart {\n",
              "    background-color: var(--bg-color);\n",
              "    border: none;\n",
              "    border-radius: 50%;\n",
              "    cursor: pointer;\n",
              "    display: none;\n",
              "    fill: var(--fill-color);\n",
              "    height: 32px;\n",
              "    padding: 0;\n",
              "    width: 32px;\n",
              "  }\n",
              "\n",
              "  .colab-df-quickchart:hover {\n",
              "    background-color: var(--hover-bg-color);\n",
              "    box-shadow: 0 1px 2px rgba(60, 64, 67, 0.3), 0 1px 3px 1px rgba(60, 64, 67, 0.15);\n",
              "    fill: var(--button-hover-fill-color);\n",
              "  }\n",
              "\n",
              "  .colab-df-quickchart-complete:disabled,\n",
              "  .colab-df-quickchart-complete:disabled:hover {\n",
              "    background-color: var(--disabled-bg-color);\n",
              "    fill: var(--disabled-fill-color);\n",
              "    box-shadow: none;\n",
              "  }\n",
              "\n",
              "  .colab-df-spinner {\n",
              "    border: 2px solid var(--fill-color);\n",
              "    border-color: transparent;\n",
              "    border-bottom-color: var(--fill-color);\n",
              "    animation:\n",
              "      spin 1s steps(1) infinite;\n",
              "  }\n",
              "\n",
              "  @keyframes spin {\n",
              "    0% {\n",
              "      border-color: transparent;\n",
              "      border-bottom-color: var(--fill-color);\n",
              "      border-left-color: var(--fill-color);\n",
              "    }\n",
              "    20% {\n",
              "      border-color: transparent;\n",
              "      border-left-color: var(--fill-color);\n",
              "      border-top-color: var(--fill-color);\n",
              "    }\n",
              "    30% {\n",
              "      border-color: transparent;\n",
              "      border-left-color: var(--fill-color);\n",
              "      border-top-color: var(--fill-color);\n",
              "      border-right-color: var(--fill-color);\n",
              "    }\n",
              "    40% {\n",
              "      border-color: transparent;\n",
              "      border-right-color: var(--fill-color);\n",
              "      border-top-color: var(--fill-color);\n",
              "    }\n",
              "    60% {\n",
              "      border-color: transparent;\n",
              "      border-right-color: var(--fill-color);\n",
              "    }\n",
              "    80% {\n",
              "      border-color: transparent;\n",
              "      border-right-color: var(--fill-color);\n",
              "      border-bottom-color: var(--fill-color);\n",
              "    }\n",
              "    90% {\n",
              "      border-color: transparent;\n",
              "      border-bottom-color: var(--fill-color);\n",
              "    }\n",
              "  }\n",
              "</style>\n",
              "\n",
              "  <script>\n",
              "    async function quickchart(key) {\n",
              "      const quickchartButtonEl =\n",
              "        document.querySelector('#' + key + ' button');\n",
              "      quickchartButtonEl.disabled = true;  // To prevent multiple clicks.\n",
              "      quickchartButtonEl.classList.add('colab-df-spinner');\n",
              "      try {\n",
              "        const charts = await google.colab.kernel.invokeFunction(\n",
              "            'suggestCharts', [key], {});\n",
              "      } catch (error) {\n",
              "        console.error('Error during call to suggestCharts:', error);\n",
              "      }\n",
              "      quickchartButtonEl.classList.remove('colab-df-spinner');\n",
              "      quickchartButtonEl.classList.add('colab-df-quickchart-complete');\n",
              "    }\n",
              "    (() => {\n",
              "      let quickchartButtonEl =\n",
              "        document.querySelector('#df-dc8e2c82-d010-4f35-bb92-f85d1cedea6d button');\n",
              "      quickchartButtonEl.style.display =\n",
              "        google.colab.kernel.accessAllowed ? 'block' : 'none';\n",
              "    })();\n",
              "  </script>\n",
              "</div>\n",
              "\n",
              "    </div>\n",
              "  </div>\n"
            ],
            "application/vnd.google.colaboratory.intrinsic+json": {
              "type": "dataframe",
              "variable_name": "ds",
              "summary": "{\n  \"name\": \"ds\",\n  \"rows\": 98,\n  \"fields\": [\n    {\n      \"column\": \"text\",\n      \"properties\": {\n        \"dtype\": \"string\",\n        \"num_unique_values\": 75,\n        \"samples\": [\n          \"\\\"Just had the best meal of my life!\\\"\",\n          \"\\\"The website layout is cluttered and confusing. Difficult to find information.\\\"\",\n          \"\\\"This book made me feel inspired. Highly recommended!\\\"\"\n        ],\n        \"semantic_type\": \"\",\n        \"description\": \"\"\n      }\n    },\n    {\n      \"column\": \"sentiment\",\n      \"properties\": {\n        \"dtype\": \"category\",\n        \"num_unique_values\": 2,\n        \"samples\": [\n          \" Negative\",\n          \" Positive\"\n        ],\n        \"semantic_type\": \"\",\n        \"description\": \"\"\n      }\n    },\n    {\n      \"column\": \"source\",\n      \"properties\": {\n        \"dtype\": \"category\",\n        \"num_unique_values\": 27,\n        \"samples\": [\n          \" Goodreads\",\n          \" Event Review\"\n        ],\n        \"semantic_type\": \"\",\n        \"description\": \"\"\n      }\n    },\n    {\n      \"column\": \"date_time\",\n      \"properties\": {\n        \"dtype\": \"object\",\n        \"num_unique_values\": 75,\n        \"samples\": [\n          \" 2023-06-16 08:50:59\",\n          \" 2023-07-14 14:40:05\"\n        ],\n        \"semantic_type\": \"\",\n        \"description\": \"\"\n      }\n    },\n    {\n      \"column\": \"userid\",\n      \"properties\": {\n        \"dtype\": \"string\",\n        \"num_unique_values\": 73,\n        \"samples\": [\n          \" foodie22\",\n          \" thrillseeker3\"\n        ],\n        \"semantic_type\": \"\",\n        \"description\": \"\"\n      }\n    },\n    {\n      \"column\": \"location\",\n      \"properties\": {\n        \"dtype\": \"category\",\n        \"num_unique_values\": 11,\n        \"samples\": [\n          \" San Francisco\",\n          \" New York\"\n        ],\n        \"semantic_type\": \"\",\n        \"description\": \"\"\n      }\n    },\n    {\n      \"column\": \"confidence_score\",\n      \"properties\": {\n        \"dtype\": \"category\",\n        \"num_unique_values\": 25,\n        \"samples\": [\n          \" 0.93\",\n          \" 0.75\"\n        ],\n        \"semantic_type\": \"\",\n        \"description\": \"\"\n      }\n    }\n  ]\n}"
            }
          },
          "metadata": {},
          "execution_count": 25
        }
      ],
      "source": [
        "ds.head(5)"
      ]
    },
    {
      "cell_type": "code",
      "execution_count": null,
      "metadata": {
        "id": "lF9UMh8IUyEk"
      },
      "outputs": [],
      "source": [
        "db=ds[\"text\"]"
      ]
    },
    {
      "cell_type": "code",
      "execution_count": null,
      "metadata": {
        "id": "g5fOTmMbU2QI",
        "colab": {
          "base_uri": "https://localhost:8080/"
        },
        "outputId": "300b8211-b4ce-4e8c-c7d6-63eb3952da45"
      },
      "outputs": [
        {
          "output_type": "stream",
          "name": "stdout",
          "text": [
            "<class 'pandas.core.series.Series'>\n",
            "RangeIndex: 98 entries, 0 to 97\n",
            "Series name: text\n",
            "Non-Null Count  Dtype \n",
            "--------------  ----- \n",
            "96 non-null     object\n",
            "dtypes: object(1)\n",
            "memory usage: 912.0+ bytes\n"
          ]
        }
      ],
      "source": [
        "db.info()"
      ]
    },
    {
      "cell_type": "code",
      "execution_count": null,
      "metadata": {
        "id": "CSXnfnckU3kl",
        "colab": {
          "base_uri": "https://localhost:8080/"
        },
        "outputId": "dac3f9a5-1c97-4924-c3e0-c42b3de8f560"
      },
      "outputs": [
        {
          "output_type": "execute_result",
          "data": {
            "text/plain": [
              "0                               \"I love this product!\"\n",
              "1                          \"The service was terrible.\"\n",
              "2                             \"This movie is amazing!\"\n",
              "3    \"I'm so disappointed with their customer suppo...\n",
              "4                 \"Just had the best meal of my life!\"\n",
              "Name: text, dtype: object"
            ]
          },
          "metadata": {},
          "execution_count": 28
        }
      ],
      "source": [
        "db.head(5)"
      ]
    },
    {
      "cell_type": "code",
      "execution_count": null,
      "metadata": {
        "id": "lj5ni7MFU6Qb"
      },
      "outputs": [],
      "source": [
        "db=db.str.replace('\"',' ')"
      ]
    },
    {
      "cell_type": "code",
      "execution_count": null,
      "metadata": {
        "id": "qoWtIYvOVNv1",
        "colab": {
          "base_uri": "https://localhost:8080/"
        },
        "outputId": "7b90c7a6-0225-4bda-8cf4-3775d15c42ee"
      },
      "outputs": [
        {
          "output_type": "execute_result",
          "data": {
            "text/plain": [
              "0                                I love this product! \n",
              "1                           The service was terrible. \n",
              "2                              This movie is amazing! \n",
              "3     I'm so disappointed with their customer suppo...\n",
              "4                  Just had the best meal of my life! \n",
              "Name: text, dtype: object"
            ]
          },
          "metadata": {},
          "execution_count": 30
        }
      ],
      "source": [
        "db.head()"
      ]
    },
    {
      "cell_type": "code",
      "execution_count": null,
      "metadata": {
        "id": "BnGfYXh2VX10",
        "colab": {
          "base_uri": "https://localhost:8080/"
        },
        "outputId": "03d0ddfd-486d-458a-edb9-cee0214986c6"
      },
      "outputs": [
        {
          "output_type": "execute_result",
          "data": {
            "text/plain": [
              "count                         96\n",
              "unique                        75\n",
              "top        I love this product! \n",
              "freq                           2\n",
              "Name: text, dtype: object"
            ]
          },
          "metadata": {},
          "execution_count": 31
        }
      ],
      "source": [
        "db.describe()"
      ]
    },
    {
      "cell_type": "code",
      "execution_count": null,
      "metadata": {
        "id": "ujQDGgPHqUK7",
        "colab": {
          "base_uri": "https://localhost:8080/"
        },
        "outputId": "4d0cde2c-1391-40fb-86cc-22b5906cd420"
      },
      "outputs": [
        {
          "output_type": "execute_result",
          "data": {
            "text/plain": [
              "array([' I love this product! ', ' The service was terrible. ',\n",
              "       ' This movie is amazing! ',\n",
              "       \" I'm so disappointed with their customer support. \",\n",
              "       ' Just had the best meal of my life! ',\n",
              "       ' The quality of this product is subpar. ',\n",
              "       \" I can't stop listening to this song. It's incredible! \",\n",
              "       ' Their website is so user-friendly. Love it! ',\n",
              "       ' I loved the movie! It was fantastic! ',\n",
              "       ' The customer service was terrible. ',\n",
              "       ' This book made me feel inspired. Highly recommended! ',\n",
              "       \" I'm extremely disappointed with their product quality. \",\n",
              "       \" Just had the most amazing vacation! I can't wait to go back. \",\n",
              "       ' The food at this restaurant was awful. Never going back again! ',\n",
              "       \" I can't stop listening to this song. It's my new favorite! \",\n",
              "       ' Their website is so confusing and poorly designed. ',\n",
              "       ' I had an incredible experience at the theme park. So much fun! ',\n",
              "       ' The product arrived damaged. Very disappointed. ',\n",
              "       ' The concert was absolutely breathtaking. Best performance ever! ',\n",
              "       ' I had a terrible experience with their customer support. ',\n",
              "       ' This movie is a masterpiece! I was blown away. ',\n",
              "       ' The customer service at this store is top-notch. ',\n",
              "       \" I'm disappointed with the ending of this book. It fell flat. \",\n",
              "       ' The product I received was damaged. Unacceptable. ',\n",
              "       ' Just had the worst flight experience. Delayed and rude staff. ',\n",
              "       ' The hotel stay was absolutely amazing! Luxury at its finest. ',\n",
              "       ' The food at this restaurant was outstanding. Highly recommended! ',\n",
              "       ' This playlist is my go-to for workouts. Energizing and motivating! ',\n",
              "       ' I had a frustrating experience navigating through their website. ',\n",
              "       ' The roller coaster ride was thrilling! Heart-pounding excitement! ',\n",
              "       ' The product I ordered never arrived. Terrible service. ',\n",
              "       \" I can't get enough of this band. Their music is incredible! \",\n",
              "       ' I had a great chat with their customer support. Helpful and friendly. ',\n",
              "       \" This restaurant has the most delicious food. I can't wait to go back! \",\n",
              "       ' The product I purchased broke within a week. Poor quality. ',\n",
              "       ' This book is thought-provoking and beautifully written. Highly recommended! ',\n",
              "       ' The customer service at this store is exceptional. They went above and beyond. ',\n",
              "       ' I had a terrible experience with their technical support. No resolution. ',\n",
              "       \" The live concert was electrifying! The band's energy was contagious. \",\n",
              "       \" I'm disappointed with the food at this restaurant. It was tasteless. \",\n",
              "       \" This song always puts me in a good mood. It's my go-to feel-good track! \",\n",
              "       ' The website is slow and unresponsive. Difficult to navigate. ',\n",
              "       ' The roller coaster ride was exhilarating! Pure adrenaline rush! ',\n",
              "       ' The product I ordered arrived damaged. Very disappointed with the packaging. ',\n",
              "       \" I'm captivated by this band's unique sound. They're a breath of fresh air! \",\n",
              "       ' The customer support was quick to respond and resolved my issue. Impressed! ',\n",
              "       ' This restaurant has the best food. I highly recommend it! ',\n",
              "       ' The plot of this movie is confusing and hard to follow. ',\n",
              "       \" I'm addicted to this game. It's so much fun! \",\n",
              "       ' The customer service at this hotel was terrible. Avoid at all costs. ',\n",
              "       \" This book bored me to tears. I couldn't finish it. \",\n",
              "       \" I'm impressed with the sound quality of these headphones. Excellent! \",\n",
              "       ' The website design is sleek and user-friendly. Easy to navigate. ',\n",
              "       ' I had a terrible experience with their delivery service. Late and unprofessional. ',\n",
              "       ' The concert was mind-blowing! The band knows how to put on a show. ',\n",
              "       \" I'm extremely disappointed with the customer support. No resolution. \",\n",
              "       ' The hotel staff were rude and unprofessional. Terrible customer service. ',\n",
              "       ' The food at this restaurant was mediocre. Nothing special. ',\n",
              "       ' This song always puts me in a nostalgic mood. It reminds me of good times. ',\n",
              "       ' The website loading speed is frustratingly slow. Needs improvement. ',\n",
              "       ' The food at this cafe exceeded my expectations. Absolutely delicious! ',\n",
              "       \" I'm disappointed with the ending of this TV show. It left too many unanswered questions. \",\n",
              "       ' This album is a masterpiece. Every song is a work of art! ',\n",
              "       ' The website layout is cluttered and confusing. Difficult to find information. ',\n",
              "       ' The roller coaster at this theme park is a thrilling experience. A must-try! ',\n",
              "       ' The product I ordered never arrived. Poor customer service. ',\n",
              "       \" I'm in awe of this artist's talent. Their paintings are breathtaking! \",\n",
              "       ' The food at this restaurant was disappointing. Not worth the price. ',\n",
              "       ' This playlist is perfect for relaxation. Soothing and calming! ',\n",
              "       ' The website navigation is smooth and intuitive. I found what I needed quickly. ',\n",
              "       ' The ride on this cruise ship was an unforgettable experience. I loved every moment! ',\n",
              "       ' The product I received was of poor quality. It broke after a few uses. ',\n",
              "       ' This book kept me hooked from start to finish. A captivating read! ',\n",
              "       ' The customer service at this store is outstanding. They truly care about their customers. ',\n",
              "       ' I had a frustrating experience with their technical support. No resolution provided. ',\n",
              "       nan], dtype=object)"
            ]
          },
          "metadata": {},
          "execution_count": 32
        }
      ],
      "source": [
        "db.unique()"
      ]
    },
    {
      "cell_type": "code",
      "execution_count": null,
      "metadata": {
        "id": "ShjEGURE3Q0M",
        "colab": {
          "base_uri": "https://localhost:8080/",
          "height": 1000
        },
        "outputId": "8044e7d4-885f-4a9e-b3b6-c33975e691ce"
      },
      "outputs": [
        {
          "output_type": "stream",
          "name": "stdout",
          "text": [
            "<class 'pandas.core.frame.DataFrame'>\n",
            "RangeIndex: 98 entries, 0 to 97\n",
            "Data columns (total 7 columns):\n",
            " #   Column            Non-Null Count  Dtype \n",
            "---  ------            --------------  ----- \n",
            " 0   text              96 non-null     object\n",
            " 1   sentiment         96 non-null     object\n",
            " 2   source            96 non-null     object\n",
            " 3   date_time         96 non-null     object\n",
            " 4   userid            96 non-null     object\n",
            " 5   location          96 non-null     object\n",
            " 6   confidence_score  96 non-null     object\n",
            "dtypes: object(7)\n",
            "memory usage: 5.5+ KB\n",
            "                                               text  sentiment         source  \\\n",
            "0                              I love this product!   Positive        Twitter   \n",
            "1                         The service was terrible.   Negative   Yelp Reviews   \n",
            "2                            This movie is amazing!   Positive           IMDb   \n",
            "3  I'm so disappointed with their customer support.   Negative   Online Forum   \n",
            "4                Just had the best meal of my life!   Positive    TripAdvisor   \n",
            "\n",
            "              date_time        userid      location confidence_score  \n",
            "0   2023-06-15 09:23:14      @user123      New York             0.85  \n",
            "1   2023-06-15 11:45:32       user456   Los Angeles             0.65  \n",
            "2   2023-06-15 14:10:22   moviefan789        London             0.92  \n",
            "3   2023-06-15 17:35:11    forumuser1       Toronto             0.78  \n",
            "4   2023-06-16 08:50:59      foodie22         Paris             0.88  \n"
          ]
        },
        {
          "output_type": "display_data",
          "data": {
            "text/plain": [
              "<Figure size 1000x600 with 1 Axes>"
            ],
            "image/png": "[encoded data removed]"
          },
          "metadata": {}
        },
        {
          "output_type": "display_data",
          "data": {
            "text/plain": [
              "<Figure size 640x480 with 1 Axes>"
            ],
            "image/png": "[encoded data removed]"
          },
          "metadata": {}
        }
      ],
      "source": [
        "import pandas as pd\n",
        "import matplotlib.pyplot as plt\n",
        "import nltk\n",
        "\n",
        "#data preparation\n",
        "def wrangle(path):\n",
        "  df=pd.read_csv(path)\n",
        "  df[[\"text\",\"sentiment\",\"source\",\"date_time\",\"userid\",\"location\",\"confidence_score\"]]=(df[\"Text, Sentiment, Source, Date/Time, User ID, Location, Confidence Score\"].str.split(\",\",expand=True))\n",
        "  df.drop(columns=[\"Text, Sentiment, Source, Date/Time, User ID, Location, Confidence Score\"],inplace = True)\n",
        "  #df[[\"date\",\"time\"]]=df[\"date_time\"].str.split(\" \",expand=True)\n",
        "  return df\n",
        "ds = wrangle(r\"/content/sentiment-analysis.csv\")\n",
        "ds.info()\n",
        "ds[\"text\"]=ds[\"text\"].str.replace('\"','',regex=True)\n",
        "print(ds.head(5))\n",
        "\n",
        "ds[\"location\"] = ds[\"location\"].astype(str)\n",
        "#data visualization\n",
        "#bar chart\n",
        "plt.figure(figsize=(10, 6))\n",
        "plt.hist(ds[\"location\"],bins=10,rwidth=0.8)\n",
        "plt.title(\"distribution of location\")\n",
        "plt.show()\n",
        "\n",
        "#pie chart\n",
        "p=ds[\"sentiment\"].value_counts()\n",
        "plt.pie(p,labels=[\"positive\",\"negative\"])\n",
        "plt.title(\"distribution of sentiment\")\n",
        "plt.show()"
      ]
    },
    {
      "cell_type": "code",
      "source": [
        "import pandas as pd\n",
        "import nltk\n",
        "from nltk.corpus import stopwords\n",
        "from nltk.tokenize import word_tokenize\n",
        "from collections import Counter\n",
        "\n",
        "\n",
        "nltk.download('punkt')\n",
        "nltk.download('stopwords')\n",
        "\n",
        "def wrangle(path):\n",
        "    df = pd.read_csv(path)\n",
        "    df.dropna(inplace=True)\n",
        "    df = df.iloc[:, 0].str.split(', ', expand=True)\n",
        "    df.columns = [\"text\", \"sentiment\", \"source\", \"date_time\", \"userid\", \"location\", \"confidence_score\"]\n",
        "    df[['date', 'time']] = df['date_time'].str.split(' ', expand=True)\n",
        "    df.drop(columns=['date_time'], inplace=True)\n",
        "    return df\n",
        "\n",
        "ds = wrangle(r\"/content/sentiment-analysis.csv\")\n",
        "text_data = ds[\"text\"]\n",
        "print(text_data.head(10))\n",
        "tokens = [word_tokenize(text.lower()) for text in text_data]\n",
        "stop_words = set(stopwords.words('english'))\n",
        "filtered_tokens = [[word for word in token if word not in stop_words] for token in tokens]\n",
        "\n",
        "all_words = [word for sublist in filtered_tokens for word in sublist]\n",
        "word_freq = Counter(all_words)\n",
        "\n",
        "print(\"Most common words:\")\n",
        "print(word_freq.most_common(10))"
      ],
      "metadata": {
        "id": "dI1mrbNKeIaV",
        "colab": {
          "base_uri": "https://localhost:8080/"
        },
        "outputId": "6380e743-4a74-4471-f9a2-1370a6ba4c7f"
      },
      "execution_count": null,
      "outputs": [
        {
          "output_type": "stream",
          "name": "stdout",
          "text": [
            "0                               \"I love this product!\"\n",
            "1                          \"The service was terrible.\"\n",
            "2                             \"This movie is amazing!\"\n",
            "3    \"I'm so disappointed with their customer suppo...\n",
            "4                 \"Just had the best meal of my life!\"\n",
            "5             \"The quality of this product is subpar.\"\n",
            "6    \"I can't stop listening to this song. It's inc...\n",
            "7        \"Their website is so user-friendly. Love it!\"\n",
            "8               \"I loved the movie! It was fantastic!\"\n",
            "9                 \"The customer service was terrible.\"\n",
            "Name: text, dtype: object\n",
            "Most common words:\n",
            "[('.', 119), ('``', 96), (\"''\", 96), ('!', 51), ('customer', 15), ('product', 13), ('service', 13), (\"'m\", 12), ('terrible', 11), ('website', 11)]\n"
          ]
        },
        {
          "output_type": "stream",
          "name": "stderr",
          "text": [
            "[nltk_data] Downloading package punkt to /root/nltk_data...\n",
            "[nltk_data]   Package punkt is already up-to-date!\n",
            "[nltk_data] Downloading package stopwords to /root/nltk_data...\n",
            "[nltk_data]   Package stopwords is already up-to-date!\n"
          ]
        }
      ]
    },
    {
      "cell_type": "code",
      "source": [
        "import nltk\n",
        "from nltk.sentiment.vader import SentimentIntensityAnalyzer\n",
        "nltk.download('vader_lexicon')\n",
        "def analyze_sentiment(text):\n",
        "    sid = SentimentIntensityAnalyzer()\n",
        "    sentiment_scores = sid.polarity_scores(text)\n",
        "    return sentiment_scores['compound']\n",
        "\n",
        "sentiment_scores = text_data.apply(analyze_sentiment)\n",
        "ds['sentiment_score'] = sentiment_scores\n",
        "print(ds.head())"
      ],
      "metadata": {
        "id": "O5x5EEH2OJyd",
        "colab": {
          "base_uri": "https://localhost:8080/"
        },
        "outputId": "ee033c36-e2a1-4602-b991-3eab075e7271"
      },
      "execution_count": null,
      "outputs": [
        {
          "output_type": "stream",
          "name": "stderr",
          "text": [
            "[nltk_data] Downloading package vader_lexicon to /root/nltk_data...\n",
            "[nltk_data]   Package vader_lexicon is already up-to-date!\n"
          ]
        },
        {
          "output_type": "stream",
          "name": "stdout",
          "text": [
            "                                                text sentiment        source  \\\n",
            "0                             \"I love this product!\"  Positive       Twitter   \n",
            "1                        \"The service was terrible.\"  Negative  Yelp Reviews   \n",
            "2                           \"This movie is amazing!\"  Positive          IMDb   \n",
            "3  \"I'm so disappointed with their customer suppo...  Negative  Online Forum   \n",
            "4               \"Just had the best meal of my life!\"  Positive   TripAdvisor   \n",
            "\n",
            "        userid     location confidence_score        date      time  \\\n",
            "0     @user123     New York             0.85  2023-06-15  09:23:14   \n",
            "1      user456  Los Angeles             0.65  2023-06-15  11:45:32   \n",
            "2  moviefan789       London             0.92  2023-06-15  14:10:22   \n",
            "3   forumuser1      Toronto             0.78  2023-06-15  17:35:11   \n",
            "4     foodie22        Paris             0.88  2023-06-16  08:50:59   \n",
            "\n",
            "   sentiment_score  \n",
            "0           0.6696  \n",
            "1           0.0000  \n",
            "2           0.0000  \n",
            "3          -0.5256  \n",
            "4           0.6696  \n"
          ]
        }
      ]
    },
    {
      "cell_type": "code",
      "source": [
        "def map_sentiment(score):\n",
        "    if score >= 0.05:\n",
        "        return 'Positive'\n",
        "    elif score <= -0.05:\n",
        "        return 'Negative'\n",
        "    else:\n",
        "        return 'Neutral'\n",
        "\n",
        "predicted_sentiment = ds['sentiment_score'].apply(map_sentiment)\n",
        "\n",
        "comparison = pd.DataFrame({\n",
        "    'Actual_Sentiment': ds['sentiment'],\n",
        "    'Predicted_Sentiment': predicted_sentiment\n",
        "})\n",
        "\n",
        "\n",
        "print(comparison.head(20))"
      ],
      "metadata": {
        "id": "xA7mefDKOX7W",
        "colab": {
          "base_uri": "https://localhost:8080/"
        },
        "outputId": "d288ed59-a642-430e-d81c-899fc5dc79f1"
      },
      "execution_count": null,
      "outputs": [
        {
          "output_type": "stream",
          "name": "stdout",
          "text": [
            "   Actual_Sentiment Predicted_Sentiment\n",
            "0          Positive            Positive\n",
            "1          Negative             Neutral\n",
            "2          Positive             Neutral\n",
            "3          Negative            Negative\n",
            "4          Positive            Positive\n",
            "5          Negative             Neutral\n",
            "6          Positive            Positive\n",
            "7          Positive            Positive\n",
            "8          Positive            Positive\n",
            "9          Negative             Neutral\n",
            "10         Positive            Positive\n",
            "11         Negative            Negative\n",
            "12         Positive            Positive\n",
            "13         Negative            Negative\n",
            "14         Positive            Positive\n",
            "15         Negative            Negative\n",
            "16         Positive             Neutral\n",
            "17         Negative            Negative\n",
            "18         Positive            Positive\n",
            "19         Negative            Negative\n"
          ]
        }
      ]
    },
    {
      "cell_type": "code",
      "source": [
        "from sklearn.metrics import accuracy_score,precision_score,f1_score,recall_score\n",
        "accuracy = accuracy_score(comparison['Actual_Sentiment'], comparison['Predicted_Sentiment'])\n",
        "print(\"Accuracy:\", accuracy)"
      ],
      "metadata": {
        "id": "zw2hITXrObtf",
        "colab": {
          "base_uri": "https://localhost:8080/"
        },
        "outputId": "9cf9819d-da6e-47c9-9d2f-812edcce4a98"
      },
      "execution_count": null,
      "outputs": [
        {
          "output_type": "stream",
          "name": "stdout",
          "text": [
            "Accuracy: 0.7708333333333334\n"
          ]
        }
      ]
    },
    {
      "cell_type": "code",
      "source": [
        "pres = precision_score(comparison['Actual_Sentiment'], comparison['Predicted_Sentiment'],average='weighted')\n",
        "print(\"Precision:\",pres)"
      ],
      "metadata": {
        "colab": {
          "base_uri": "https://localhost:8080/"
        },
        "id": "t4RPv0ksB6R3",
        "outputId": "4dc4507b-4b33-4343-fcd5-98569539761d"
      },
      "execution_count": null,
      "outputs": [
        {
          "output_type": "stream",
          "name": "stdout",
          "text": [
            "Precision: 0.9743217054263565\n"
          ]
        }
      ]
    },
    {
      "cell_type": "code",
      "source": [
        "f = f1_score(comparison['Actual_Sentiment'], comparison['Predicted_Sentiment'],average='weighted')\n",
        "print(\"F1:\",f)"
      ],
      "metadata": {
        "colab": {
          "base_uri": "https://localhost:8080/"
        },
        "id": "EHxQlyKjCWvr",
        "outputId": "d8d831bb-2881-46d2-a783-a990e2e455c4"
      },
      "execution_count": null,
      "outputs": [
        {
          "output_type": "stream",
          "name": "stdout",
          "text": [
            "F1: 0.8605514437134504\n"
          ]
        }
      ]
    },
    {
      "cell_type": "code",
      "source": [
        "rec = recall_score(comparison['Actual_Sentiment'], comparison['Predicted_Sentiment'],average='micro')\n",
        "print(\"Recall:\",rec)"
      ],
      "metadata": {
        "colab": {
          "base_uri": "https://localhost:8080/"
        },
        "id": "dfFrm2_bE95Y",
        "outputId": "1665b944-f68c-4481-8c62-fc61c8fdb20f"
      },
      "execution_count": null,
      "outputs": [
        {
          "output_type": "stream",
          "name": "stdout",
          "text": [
            "Recall: 0.7708333333333334\n"
          ]
        }
      ]
    },
    {
      "cell_type": "code",
      "source": [
        "!pip install emoji\n",
        "import emoji\n",
        "sa=ds['sentiment_score']\n",
        "\n",
        "\n",
        "for i in sa.head(10):\n",
        "  if i >0.9:\n",
        "    print(emoji.emojize(\"\\U0001F602\"))\n",
        "  elif i>0.6 and i <0.9:\n",
        "    print(emoji.emojize(\"\\U0001F601\"))\n",
        "  elif i>0.4 and i <0.6:\n",
        "    print(emoji.emojize(\"\\U0001F60A\"))\n",
        "  elif i>0.1 and i <0.4:\n",
        "    print(emoji.emojize(\"\\U0001F642\"))\n",
        "  elif i>-0.1 and i <0.1:\n",
        "    print(emoji.emojize(\"\\U0001F610\"))\n",
        "  elif i>-0.4 and i <-0.1:\n",
        "    print(emoji.emojize(\"\\U0001F641\"))\n",
        "  elif i>-0.6 and i <-0.4:\n",
        "    print(emoji.emojize(\"\\U0001F61F\"))\n",
        "  elif i>-0.9 and i <-0.6:\n",
        "    print(emoji.emojize(\"\\U0001F622\"))\n",
        "  else:\n",
        "    print(emoji.emojize(\"\\U0001F62D\"))\n",
        "\n",
        "#positive hands up 64F or thumbs up 44D"
      ],
      "metadata": {
        "id": "gp_9G9YDZ2xU",
        "outputId": "dc0041cc-78ec-4328-c7ba-083a00ffe525",
        "colab": {
          "base_uri": "https://localhost:8080/"
        }
      },
      "execution_count": null,
      "outputs": [
        {
          "output_type": "stream",
          "name": "stdout",
          "text": [
            "Collecting emoji\n",
            "  Downloading emoji-2.11.1-py2.py3-none-any.whl (433 kB)\n",
            "\u001b[2K     \u001b[90m━━━━━━━━━━━━━━━━━━━━━━━━━━━━━━━━━━━━━━━━\u001b[0m \u001b[32m433.8/433.8 kB\u001b[0m \u001b[31m3.4 MB/s\u001b[0m eta \u001b[36m0:00:00\u001b[0m\n",
            "\u001b[?25hInstalling collected packages: emoji\n",
            "Successfully installed emoji-2.11.1\n",
            "😁\n",
            "😐\n",
            "😐\n",
            "😟\n",
            "😁\n",
            "😐\n",
            "🙂\n",
            "😁\n",
            "😁\n",
            "😐\n"
          ]
        }
      ]
    },
    {
      "cell_type": "code",
      "source": [
        "ds.head(10)"
      ],
      "metadata": {
        "id": "g4fp57DJHWEo",
        "colab": {
          "base_uri": "https://localhost:8080/",
          "height": 536
        },
        "outputId": "76087341-d9f4-4e41-b9a6-edfc580365f4"
      },
      "execution_count": null,
      "outputs": [
        {
          "output_type": "execute_result",
          "data": {
            "text/plain": [
              "                                                text sentiment  \\\n",
              "0                             \"I love this product!\"  Positive   \n",
              "1                        \"The service was terrible.\"  Negative   \n",
              "2                           \"This movie is amazing!\"  Positive   \n",
              "3  \"I'm so disappointed with their customer suppo...  Negative   \n",
              "4               \"Just had the best meal of my life!\"  Positive   \n",
              "5           \"The quality of this product is subpar.\"  Negative   \n",
              "6  \"I can't stop listening to this song. It's inc...  Positive   \n",
              "7      \"Their website is so user-friendly. Love it!\"  Positive   \n",
              "8             \"I loved the movie! It was fantastic!\"  Positive   \n",
              "9               \"The customer service was terrible.\"  Negative   \n",
              "\n",
              "                source            userid       location confidence_score  \\\n",
              "0              Twitter          @user123       New York             0.85   \n",
              "1         Yelp Reviews           user456    Los Angeles             0.65   \n",
              "2                 IMDb       moviefan789         London             0.92   \n",
              "3         Online Forum        forumuser1        Toronto             0.78   \n",
              "4          TripAdvisor          foodie22          Paris             0.88   \n",
              "5       Amazon Reviews        shopper123  San Francisco             0.72   \n",
              "6              Spotify     musiclover456         Berlin             0.91   \n",
              "7  Website Testimonial  testimonialuser1         Sydney             0.87   \n",
              "8                 IMDb           user123       New York             0.92   \n",
              "9         Yelp Reviews           user456    Los Angeles             0.65   \n",
              "\n",
              "         date      time  sentiment_score  \n",
              "0  2023-06-15  09:23:14           0.6696  \n",
              "1  2023-06-15  11:45:32           0.0000  \n",
              "2  2023-06-15  14:10:22           0.0000  \n",
              "3  2023-06-15  17:35:11          -0.5256  \n",
              "4  2023-06-16  08:50:59           0.6696  \n",
              "5  2023-06-16  10:15:27           0.0000  \n",
              "6  2023-06-16  13:40:18           0.2914  \n",
              "7  2023-06-16  16:05:36           0.6975  \n",
              "8  2023-07-02  09:12:34           0.6688  \n",
              "9  2023-07-02  10:45:21           0.0000  "
            ],
            "text/html": [
              "\n",
              "  <div id=\"df-3fbf24cf-d947-4859-b497-fb11bd2f8a21\" class=\"colab-df-container\">\n",
              "    <div>\n",
              "<style scoped>\n",
              "    .dataframe tbody tr th:only-of-type {\n",
              "        vertical-align: middle;\n",
              "    }\n",
              "\n",
              "    .dataframe tbody tr th {\n",
              "        vertical-align: top;\n",
              "    }\n",
              "\n",
              "    .dataframe thead th {\n",
              "        text-align: right;\n",
              "    }\n",
              "</style>\n",
              "<table border=\"1\" class=\"dataframe\">\n",
              "  <thead>\n",
              "    <tr style=\"text-align: right;\">\n",
              "      <th></th>\n",
              "      <th>text</th>\n",
              "      <th>sentiment</th>\n",
              "      <th>source</th>\n",
              "      <th>userid</th>\n",
              "      <th>location</th>\n",
              "      <th>confidence_score</th>\n",
              "      <th>date</th>\n",
              "      <th>time</th>\n",
              "      <th>sentiment_score</th>\n",
              "    </tr>\n",
              "  </thead>\n",
              "  <tbody>\n",
              "    <tr>\n",
              "      <th>0</th>\n",
              "      <td>\"I love this product!\"</td>\n",
              "      <td>Positive</td>\n",
              "      <td>Twitter</td>\n",
              "      <td>@user123</td>\n",
              "      <td>New York</td>\n",
              "      <td>0.85</td>\n",
              "      <td>2023-06-15</td>\n",
              "      <td>09:23:14</td>\n",
              "      <td>0.6696</td>\n",
              "    </tr>\n",
              "    <tr>\n",
              "      <th>1</th>\n",
              "      <td>\"The service was terrible.\"</td>\n",
              "      <td>Negative</td>\n",
              "      <td>Yelp Reviews</td>\n",
              "      <td>user456</td>\n",
              "      <td>Los Angeles</td>\n",
              "      <td>0.65</td>\n",
              "      <td>2023-06-15</td>\n",
              "      <td>11:45:32</td>\n",
              "      <td>0.0000</td>\n",
              "    </tr>\n",
              "    <tr>\n",
              "      <th>2</th>\n",
              "      <td>\"This movie is amazing!\"</td>\n",
              "      <td>Positive</td>\n",
              "      <td>IMDb</td>\n",
              "      <td>moviefan789</td>\n",
              "      <td>London</td>\n",
              "      <td>0.92</td>\n",
              "      <td>2023-06-15</td>\n",
              "      <td>14:10:22</td>\n",
              "      <td>0.0000</td>\n",
              "    </tr>\n",
              "    <tr>\n",
              "      <th>3</th>\n",
              "      <td>\"I'm so disappointed with their customer suppo...</td>\n",
              "      <td>Negative</td>\n",
              "      <td>Online Forum</td>\n",
              "      <td>forumuser1</td>\n",
              "      <td>Toronto</td>\n",
              "      <td>0.78</td>\n",
              "      <td>2023-06-15</td>\n",
              "      <td>17:35:11</td>\n",
              "      <td>-0.5256</td>\n",
              "    </tr>\n",
              "    <tr>\n",
              "      <th>4</th>\n",
              "      <td>\"Just had the best meal of my life!\"</td>\n",
              "      <td>Positive</td>\n",
              "      <td>TripAdvisor</td>\n",
              "      <td>foodie22</td>\n",
              "      <td>Paris</td>\n",
              "      <td>0.88</td>\n",
              "      <td>2023-06-16</td>\n",
              "      <td>08:50:59</td>\n",
              "      <td>0.6696</td>\n",
              "    </tr>\n",
              "    <tr>\n",
              "      <th>5</th>\n",
              "      <td>\"The quality of this product is subpar.\"</td>\n",
              "      <td>Negative</td>\n",
              "      <td>Amazon Reviews</td>\n",
              "      <td>shopper123</td>\n",
              "      <td>San Francisco</td>\n",
              "      <td>0.72</td>\n",
              "      <td>2023-06-16</td>\n",
              "      <td>10:15:27</td>\n",
              "      <td>0.0000</td>\n",
              "    </tr>\n",
              "    <tr>\n",
              "      <th>6</th>\n",
              "      <td>\"I can't stop listening to this song. It's inc...</td>\n",
              "      <td>Positive</td>\n",
              "      <td>Spotify</td>\n",
              "      <td>musiclover456</td>\n",
              "      <td>Berlin</td>\n",
              "      <td>0.91</td>\n",
              "      <td>2023-06-16</td>\n",
              "      <td>13:40:18</td>\n",
              "      <td>0.2914</td>\n",
              "    </tr>\n",
              "    <tr>\n",
              "      <th>7</th>\n",
              "      <td>\"Their website is so user-friendly. Love it!\"</td>\n",
              "      <td>Positive</td>\n",
              "      <td>Website Testimonial</td>\n",
              "      <td>testimonialuser1</td>\n",
              "      <td>Sydney</td>\n",
              "      <td>0.87</td>\n",
              "      <td>2023-06-16</td>\n",
              "      <td>16:05:36</td>\n",
              "      <td>0.6975</td>\n",
              "    </tr>\n",
              "    <tr>\n",
              "      <th>8</th>\n",
              "      <td>\"I loved the movie! It was fantastic!\"</td>\n",
              "      <td>Positive</td>\n",
              "      <td>IMDb</td>\n",
              "      <td>user123</td>\n",
              "      <td>New York</td>\n",
              "      <td>0.92</td>\n",
              "      <td>2023-07-02</td>\n",
              "      <td>09:12:34</td>\n",
              "      <td>0.6688</td>\n",
              "    </tr>\n",
              "    <tr>\n",
              "      <th>9</th>\n",
              "      <td>\"The customer service was terrible.\"</td>\n",
              "      <td>Negative</td>\n",
              "      <td>Yelp Reviews</td>\n",
              "      <td>user456</td>\n",
              "      <td>Los Angeles</td>\n",
              "      <td>0.65</td>\n",
              "      <td>2023-07-02</td>\n",
              "      <td>10:45:21</td>\n",
              "      <td>0.0000</td>\n",
              "    </tr>\n",
              "  </tbody>\n",
              "</table>\n",
              "</div>\n",
              "    <div class=\"colab-df-buttons\">\n",
              "\n",
              "  <div class=\"colab-df-container\">\n",
              "    <button class=\"colab-df-convert\" onclick=\"convertToInteractive('df-3fbf24cf-d947-4859-b497-fb11bd2f8a21')\"\n",
              "            title=\"Convert this dataframe to an interactive table.\"\n",
              "            style=\"display:none;\">\n",
              "\n",
              "  <svg xmlns=\"http://www.w3.org/2000/svg\" height=\"24px\" viewBox=\"0 -960 960 960\">\n",
              "    <path d=\"M120-120v-720h720v720H120Zm60-500h600v-160H180v160Zm220 220h160v-160H400v160Zm0 220h160v-160H400v160ZM180-400h160v-160H180v160Zm440 0h160v-160H620v160ZM180-180h160v-160H180v160Zm440 0h160v-160H620v160Z\"/>\n",
              "  </svg>\n",
              "    </button>\n",
              "\n",
              "  <style>\n",
              "    .colab-df-container {\n",
              "      display:flex;\n",
              "      gap: 12px;\n",
              "    }\n",
              "\n",
              "    .colab-df-convert {\n",
              "      background-color: #E8F0FE;\n",
              "      border: none;\n",
              "      border-radius: 50%;\n",
              "      cursor: pointer;\n",
              "      display: none;\n",
              "      fill: #1967D2;\n",
              "      height: 32px;\n",
              "      padding: 0 0 0 0;\n",
              "      width: 32px;\n",
              "    }\n",
              "\n",
              "    .colab-df-convert:hover {\n",
              "      background-color: #E2EBFA;\n",
              "      box-shadow: 0px 1px 2px rgba(60, 64, 67, 0.3), 0px 1px 3px 1px rgba(60, 64, 67, 0.15);\n",
              "      fill: #174EA6;\n",
              "    }\n",
              "\n",
              "    .colab-df-buttons div {\n",
              "      margin-bottom: 4px;\n",
              "    }\n",
              "\n",
              "    [theme=dark] .colab-df-convert {\n",
              "      background-color: #3B4455;\n",
              "      fill: #D2E3FC;\n",
              "    }\n",
              "\n",
              "    [theme=dark] .colab-df-convert:hover {\n",
              "      background-color: #434B5C;\n",
              "      box-shadow: 0px 1px 3px 1px rgba(0, 0, 0, 0.15);\n",
              "      filter: drop-shadow(0px 1px 2px rgba(0, 0, 0, 0.3));\n",
              "      fill: #FFFFFF;\n",
              "    }\n",
              "  </style>\n",
              "\n",
              "    <script>\n",
              "      const buttonEl =\n",
              "        document.querySelector('#df-3fbf24cf-d947-4859-b497-fb11bd2f8a21 button.colab-df-convert');\n",
              "      buttonEl.style.display =\n",
              "        google.colab.kernel.accessAllowed ? 'block' : 'none';\n",
              "\n",
              "      async function convertToInteractive(key) {\n",
              "        const element = document.querySelector('#df-3fbf24cf-d947-4859-b497-fb11bd2f8a21');\n",
              "        const dataTable =\n",
              "          await google.colab.kernel.invokeFunction('convertToInteractive',\n",
              "                                                    [key], {});\n",
              "        if (!dataTable) return;\n",
              "\n",
              "        const docLinkHtml = 'Like what you see? Visit the ' +\n",
              "          '<a target=\"_blank\" href=https://colab.research.google.com/notebooks/data_table.ipynb>data table notebook</a>'\n",
              "          + ' to learn more about interactive tables.';\n",
              "        element.innerHTML = '';\n",
              "        dataTable['output_type'] = 'display_data';\n",
              "        await google.colab.output.renderOutput(dataTable, element);\n",
              "        const docLink = document.createElement('div');\n",
              "        docLink.innerHTML = docLinkHtml;\n",
              "        element.appendChild(docLink);\n",
              "      }\n",
              "    </script>\n",
              "  </div>\n",
              "\n",
              "\n",
              "<div id=\"df-0368fe5b-3f85-419f-86dc-1d7520ebaf0a\">\n",
              "  <button class=\"colab-df-quickchart\" onclick=\"quickchart('df-0368fe5b-3f85-419f-86dc-1d7520ebaf0a')\"\n",
              "            title=\"Suggest charts\"\n",
              "            style=\"display:none;\">\n",
              "\n",
              "<svg xmlns=\"http://www.w3.org/2000/svg\" height=\"24px\"viewBox=\"0 0 24 24\"\n",
              "     width=\"24px\">\n",
              "    <g>\n",
              "        <path d=\"M19 3H5c-1.1 0-2 .9-2 2v14c0 1.1.9 2 2 2h14c1.1 0 2-.9 2-2V5c0-1.1-.9-2-2-2zM9 17H7v-7h2v7zm4 0h-2V7h2v10zm4 0h-2v-4h2v4z\"/>\n",
              "    </g>\n",
              "</svg>\n",
              "  </button>\n",
              "\n",
              "<style>\n",
              "  .colab-df-quickchart {\n",
              "      --bg-color: #E8F0FE;\n",
              "      --fill-color: #1967D2;\n",
              "      --hover-bg-color: #E2EBFA;\n",
              "      --hover-fill-color: #174EA6;\n",
              "      --disabled-fill-color: #AAA;\n",
              "      --disabled-bg-color: #DDD;\n",
              "  }\n",
              "\n",
              "  [theme=dark] .colab-df-quickchart {\n",
              "      --bg-color: #3B4455;\n",
              "      --fill-color: #D2E3FC;\n",
              "      --hover-bg-color: #434B5C;\n",
              "      --hover-fill-color: #FFFFFF;\n",
              "      --disabled-bg-color: #3B4455;\n",
              "      --disabled-fill-color: #666;\n",
              "  }\n",
              "\n",
              "  .colab-df-quickchart {\n",
              "    background-color: var(--bg-color);\n",
              "    border: none;\n",
              "    border-radius: 50%;\n",
              "    cursor: pointer;\n",
              "    display: none;\n",
              "    fill: var(--fill-color);\n",
              "    height: 32px;\n",
              "    padding: 0;\n",
              "    width: 32px;\n",
              "  }\n",
              "\n",
              "  .colab-df-quickchart:hover {\n",
              "    background-color: var(--hover-bg-color);\n",
              "    box-shadow: 0 1px 2px rgba(60, 64, 67, 0.3), 0 1px 3px 1px rgba(60, 64, 67, 0.15);\n",
              "    fill: var(--button-hover-fill-color);\n",
              "  }\n",
              "\n",
              "  .colab-df-quickchart-complete:disabled,\n",
              "  .colab-df-quickchart-complete:disabled:hover {\n",
              "    background-color: var(--disabled-bg-color);\n",
              "    fill: var(--disabled-fill-color);\n",
              "    box-shadow: none;\n",
              "  }\n",
              "\n",
              "  .colab-df-spinner {\n",
              "    border: 2px solid var(--fill-color);\n",
              "    border-color: transparent;\n",
              "    border-bottom-color: var(--fill-color);\n",
              "    animation:\n",
              "      spin 1s steps(1) infinite;\n",
              "  }\n",
              "\n",
              "  @keyframes spin {\n",
              "    0% {\n",
              "      border-color: transparent;\n",
              "      border-bottom-color: var(--fill-color);\n",
              "      border-left-color: var(--fill-color);\n",
              "    }\n",
              "    20% {\n",
              "      border-color: transparent;\n",
              "      border-left-color: var(--fill-color);\n",
              "      border-top-color: var(--fill-color);\n",
              "    }\n",
              "    30% {\n",
              "      border-color: transparent;\n",
              "      border-left-color: var(--fill-color);\n",
              "      border-top-color: var(--fill-color);\n",
              "      border-right-color: var(--fill-color);\n",
              "    }\n",
              "    40% {\n",
              "      border-color: transparent;\n",
              "      border-right-color: var(--fill-color);\n",
              "      border-top-color: var(--fill-color);\n",
              "    }\n",
              "    60% {\n",
              "      border-color: transparent;\n",
              "      border-right-color: var(--fill-color);\n",
              "    }\n",
              "    80% {\n",
              "      border-color: transparent;\n",
              "      border-right-color: var(--fill-color);\n",
              "      border-bottom-color: var(--fill-color);\n",
              "    }\n",
              "    90% {\n",
              "      border-color: transparent;\n",
              "      border-bottom-color: var(--fill-color);\n",
              "    }\n",
              "  }\n",
              "</style>\n",
              "\n",
              "  <script>\n",
              "    async function quickchart(key) {\n",
              "      const quickchartButtonEl =\n",
              "        document.querySelector('#' + key + ' button');\n",
              "      quickchartButtonEl.disabled = true;  // To prevent multiple clicks.\n",
              "      quickchartButtonEl.classList.add('colab-df-spinner');\n",
              "      try {\n",
              "        const charts = await google.colab.kernel.invokeFunction(\n",
              "            'suggestCharts', [key], {});\n",
              "      } catch (error) {\n",
              "        console.error('Error during call to suggestCharts:', error);\n",
              "      }\n",
              "      quickchartButtonEl.classList.remove('colab-df-spinner');\n",
              "      quickchartButtonEl.classList.add('colab-df-quickchart-complete');\n",
              "    }\n",
              "    (() => {\n",
              "      let quickchartButtonEl =\n",
              "        document.querySelector('#df-0368fe5b-3f85-419f-86dc-1d7520ebaf0a button');\n",
              "      quickchartButtonEl.style.display =\n",
              "        google.colab.kernel.accessAllowed ? 'block' : 'none';\n",
              "    })();\n",
              "  </script>\n",
              "</div>\n",
              "\n",
              "    </div>\n",
              "  </div>\n"
            ],
            "application/vnd.google.colaboratory.intrinsic+json": {
              "type": "dataframe",
              "variable_name": "ds",
              "summary": "{\n  \"name\": \"ds\",\n  \"rows\": 96,\n  \"fields\": [\n    {\n      \"column\": \"text\",\n      \"properties\": {\n        \"dtype\": \"string\",\n        \"num_unique_values\": 75,\n        \"samples\": [\n          \"\\\"Just had the best meal of my life!\\\"\",\n          \"\\\"The website layout is cluttered and confusing. Difficult to find information.\\\"\",\n          \"\\\"This book made me feel inspired. Highly recommended!\\\"\"\n        ],\n        \"semantic_type\": \"\",\n        \"description\": \"\"\n      }\n    },\n    {\n      \"column\": \"sentiment\",\n      \"properties\": {\n        \"dtype\": \"category\",\n        \"num_unique_values\": 2,\n        \"samples\": [\n          \"Negative\",\n          \"Positive\"\n        ],\n        \"semantic_type\": \"\",\n        \"description\": \"\"\n      }\n    },\n    {\n      \"column\": \"source\",\n      \"properties\": {\n        \"dtype\": \"category\",\n        \"num_unique_values\": 27,\n        \"samples\": [\n          \"Goodreads\",\n          \"Event Review\"\n        ],\n        \"semantic_type\": \"\",\n        \"description\": \"\"\n      }\n    },\n    {\n      \"column\": \"userid\",\n      \"properties\": {\n        \"dtype\": \"string\",\n        \"num_unique_values\": 73,\n        \"samples\": [\n          \"foodie22\",\n          \"thrillseeker3\"\n        ],\n        \"semantic_type\": \"\",\n        \"description\": \"\"\n      }\n    },\n    {\n      \"column\": \"location\",\n      \"properties\": {\n        \"dtype\": \"category\",\n        \"num_unique_values\": 11,\n        \"samples\": [\n          \"San Francisco\",\n          \"New York\"\n        ],\n        \"semantic_type\": \"\",\n        \"description\": \"\"\n      }\n    },\n    {\n      \"column\": \"confidence_score\",\n      \"properties\": {\n        \"dtype\": \"category\",\n        \"num_unique_values\": 25,\n        \"samples\": [\n          \"0.93\",\n          \"0.75\"\n        ],\n        \"semantic_type\": \"\",\n        \"description\": \"\"\n      }\n    },\n    {\n      \"column\": \"date\",\n      \"properties\": {\n        \"dtype\": \"object\",\n        \"num_unique_values\": 16,\n        \"samples\": [\n          \"2023-06-15\",\n          \"2023-06-16\"\n        ],\n        \"semantic_type\": \"\",\n        \"description\": \"\"\n      }\n    },\n    {\n      \"column\": \"time\",\n      \"properties\": {\n        \"dtype\": \"object\",\n        \"num_unique_values\": 54,\n        \"samples\": [\n          \"08:32:41\",\n          \"14:30:18\"\n        ],\n        \"semantic_type\": \"\",\n        \"description\": \"\"\n      }\n    },\n    {\n      \"column\": \"sentiment_score\",\n      \"properties\": {\n        \"dtype\": \"number\",\n        \"std\": 0.5092530631211222,\n        \"min\": -0.8555,\n        \"max\": 0.8779,\n        \"num_unique_values\": 45,\n        \"samples\": [\n          -0.5267,\n          0.4926\n        ],\n        \"semantic_type\": \"\",\n        \"description\": \"\"\n      }\n    }\n  ]\n}"
            }
          },
          "metadata": {},
          "execution_count": 42
        }
      ]
    },
    {
      "cell_type": "code",
      "source": [
        "import gensim\n",
        "from gensim import corpora\n",
        "from pprint import pprint\n",
        "\n",
        "text=ds['text']\n",
        "\n",
        "stop_words=set(stopwords.words('english'))\n",
        "tokenized_text = [word_tokenize(doc.lower())for doc in text]\n",
        "filtered_text = [[word for word in doc if word not in stop_words] for doc in tokenized_text]\n",
        "dictionary = corpora.Dictionary(tokenized_text)\n",
        "\n",
        "corpus = [dictionary.doc2bow(doc) for doc in tokenized_text]\n",
        "\n",
        "# Training the LDA model\n",
        "lda_model = gensim.models.LdaModel(corpus, num_topics=2, id2word=dictionary, passes=30)\n",
        "#pprint(lda_model.print_topics())\n",
        "\n",
        "cleaned_topics = [(topic_id, [word.split('*')[1].strip().strip('\"').replace(\"'\", \"\").replace(\".\", \"\").replace(\",\", \"\").replace(\"!\", \"\").replace(\"``\",\"\") for word in topic_words.split('+')]) for topic_id, topic_words in lda_model.print_topics()]\n",
        "\n",
        "# Print cleaned topics\n",
        "for x,i in cleaned_topics:\n",
        "  for a in i:\n",
        "    if len(a)>5:\n",
        "      print(a)\n",
        "\n",
        "#pprint(cleaned_topics)"
      ],
      "metadata": {
        "colab": {
          "base_uri": "https://localhost:8080/"
        },
        "id": "Qqi6Ko8LBl4M",
        "outputId": "312e2ebe-e208-49cf-be32-83dce8877998"
      },
      "execution_count": null,
      "outputs": [
        {
          "output_type": "stream",
          "name": "stdout",
          "text": [
            "customer\n",
            "service\n"
          ]
        }
      ]
    },
    {
      "cell_type": "code",
      "source": [
        "imp_top=[]\n",
        "for i in range(10):\n",
        "  lda_model = gensim.models.LdaModel(corpus, num_topics=2, id2word=dictionary, passes=30)\n",
        "  #pprint(lda_model.print_topics())\n",
        "  cleaned_topics = [(topic_id, [word.split('*')[1].strip().strip('\"').replace(\"'\", \"\").replace(\".\", \"\").replace(\",\", \"\").replace(\"!\", \"\").replace(\"``\",\"\") for word in topic_words.split('+')]) for topic_id, topic_words in lda_model.print_topics()]\n",
        "  # Print cleaned topics\n",
        "  for x,i in cleaned_topics:\n",
        "    for a in i:\n",
        "      if len(a)>5:\n",
        "        imp_top.append(a) if a not in imp_top else None\n"
      ],
      "metadata": {
        "id": "8KmnJAkn24P7"
      },
      "execution_count": null,
      "outputs": []
    },
    {
      "cell_type": "code",
      "source": [
        "print(imp_top)"
      ],
      "metadata": {
        "colab": {
          "base_uri": "https://localhost:8080/"
        },
        "id": "ZnHPXsjd3qD0",
        "outputId": "a1345f36-072d-418a-eb7d-177dcfe3a114"
      },
      "execution_count": null,
      "outputs": [
        {
          "output_type": "stream",
          "name": "stdout",
          "text": [
            "['customer', 'service', 'product', 'disappointed', 'experience']\n"
          ]
        }
      ]
    }
  ],
  "metadata": {
    "colab": {
      "provenance": []
    },
    "kernelspec": {
      "display_name": "Python 3",
      "name": "python3"
    },
    "language_info": {
      "name": "python"
    }
  },
  "nbformat": 4,
  "nbformat_minor": 0
}